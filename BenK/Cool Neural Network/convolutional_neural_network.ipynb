{
 "cells": [
  {
   "cell_type": "markdown",
   "metadata": {
    "id": "65COdMJRU_aj"
   },
   "source": [
    "# Convolutional Neural Network\n",
    "You'll build a convolutional network for the MNIST set of data to recognize handwritten digits. In addition, you'll analyze how the convolutional neural network works different than the densely connected network."
   ]
  },
  {
   "cell_type": "markdown",
   "metadata": {
    "id": "fBQ9F3_gdR2I"
   },
   "source": [
    "# Data Preparation\n",
    "To prepare your data, you'll import the libraries, load the MNIST dataset, format the data, and then you'll perform one-hot encoding. For this network, you'll follow process from the previous lessons."
   ]
  },
  {
   "cell_type": "markdown",
   "metadata": {
    "id": "5V_s6yt8cjae"
   },
   "source": [
    "## Importing TensorFlow and Keras"
   ]
  },
  {
   "cell_type": "code",
   "execution_count": 1,
   "metadata": {
    "id": "H6vMvuEeQZE8"
   },
   "outputs": [
    {
     "name": "stdout",
     "output_type": "stream",
     "text": [
      "WARNING:tensorflow:From C:\\Users\\Student\\AppData\\Local\\Programs\\Python\\Python310\\lib\\site-packages\\keras\\src\\losses.py:2976: The name tf.losses.sparse_softmax_cross_entropy is deprecated. Please use tf.compat.v1.losses.sparse_softmax_cross_entropy instead.\n",
      "\n"
     ]
    }
   ],
   "source": [
    "# Import TensorFlow and Keras to create the neural network.\n",
    "import tensorflow as tf\n",
    "from tensorflow import keras\n",
    "\n",
    "# Import the MNIST dataset and Keras backend.\n",
    "from tensorflow.keras.datasets import mnist\n",
    "from tensorflow.keras import backend as K\n",
    "\n",
    "# Import the NumPy and Matplotlib libraries and add the inline command.\n",
    "import numpy as np\n",
    "import matplotlib.pyplot as plt\n",
    "%matplotlib inline"
   ]
  },
  {
   "cell_type": "markdown",
   "metadata": {
    "id": "OuNB3mANdVl1"
   },
   "source": [
    "## Load the Data"
   ]
  },
  {
   "cell_type": "code",
   "execution_count": 2,
   "metadata": {
    "id": "g63s99A5dWHc"
   },
   "outputs": [],
   "source": [
    "# Load the MNIST Data\n",
    "def show_min_max(array, i):\n",
    "    random_image = array[i]\n",
    "    print(\"min and max value in an image: \" + random_image.min + random_image.max)"
   ]
  },
  {
   "cell_type": "code",
   "execution_count": 3,
   "metadata": {
    "id": "doy4OrW1dn1x"
   },
   "outputs": [],
   "source": [
    "# Create a function which will plot a image from the dataset and display the image.\n",
    "def plot_image(array, i, labels):\n",
    "    plt.imshow(np.squeeze(array[i]))\n",
    "    plt.title(\" Digit \" + str(labels[i]))\n",
    "    plt.xticks([])\n",
    "    plt.yticks([]) \n",
    "    plt.show()"
   ]
  },
  {
   "cell_type": "code",
   "execution_count": 4,
   "metadata": {
    "id": "tNf-JuJ6dvKS"
   },
   "outputs": [],
   "source": [
    "# Create variables for the image row and column to keep track of your image size.\n",
    "img_rows, img_cols = 28, 28\n",
    "\n",
    "# Create a variable called num_classes and set the value to 10 output classes.\n",
    "num_classes = 10"
   ]
  },
  {
   "cell_type": "code",
   "execution_count": 5,
   "metadata": {
    "id": "_kGe5L2Id2Zm"
   },
   "outputs": [
    {
     "name": "stdout",
     "output_type": "stream",
     "text": [
      "(60000, 28, 28)\n",
      "(10000, 28, 28)\n"
     ]
    }
   ],
   "source": [
    "# Load the data to train and test the model, as well as the labels to test the data against. \n",
    "(train_images, train_labels), (test_images, test_labels) = mnist.load_data()\n",
    "# Load a backup copy of the untouched data, while the first copy will be processing the data and manipulating it. \n",
    "(train_images_backup, train_labels_backup), (test_images_backup, test_labels_backup) = mnist.load_data()\n",
    "# Print the shape of the training image dataset.\n",
    "print(train_images.shape)\n",
    "# Print the shape of the test image dataset. \n",
    "print(test_images.shape)"
   ]
  },
  {
   "cell_type": "markdown",
   "metadata": {
    "id": "ACCfZG4FePqf"
   },
   "source": [
    "## Data Formatting & One-Hot Encoding"
   ]
  },
  {
   "cell_type": "code",
   "execution_count": 6,
   "metadata": {
    "id": "t1TwrkPEeQJf"
   },
   "outputs": [
    {
     "name": "stdout",
     "output_type": "stream",
     "text": [
      "(28, 28, 1)\n"
     ]
    }
   ],
   "source": [
    "# Reshape the training data by converting the list of pixels into a 28x28 grid. \n",
    "train_images = train_images.reshape(train_images.shape[0], img_rows, img_cols, 1)\n",
    "# Reshape the test data by converting the list of pixels into a 28x28 grid. \n",
    "test_images = test_images.reshape(test_images.shape[0], img_rows, img_cols, 1)\n",
    "# Create an input_shape variable to keep track of the data's shape.\n",
    "input_shape = (img_rows, img_cols, 1)\n",
    "# Change the image values to between 0 and 1 by converting the training and test data into float32. \n",
    "train_images = train_images.astype('float32')\n",
    "test_images = test_images.astype('float32')\n",
    "# Divide the images by 255 to make sure that each pixel is stored as a value between 0 and 1.\n",
    "train_images /= 255\n",
    "test_images/= 255\n",
    "# Employ one-hot encoding on your training labels. \n",
    "train_labels = keras.utils.to_categorical(train_labels, num_classes)\n",
    "# Employ one-hot encoding on your test labels.\n",
    "test_labels = keras.utils.to_categorical(test_labels, num_classes)\n",
    "# Print the shape of the training data. \n",
    "print(train_images[1232].shape)"
   ]
  },
  {
   "cell_type": "markdown",
   "metadata": {
    "id": "iy_5TQ_Dg_n6"
   },
   "source": [
    "# Building the Network\n",
    "Convolutional networks, like densely connected ones, take the output from one layer to feed in as input in the next layer. However, the type of layers that this network uses will be different."
   ]
  },
  {
   "cell_type": "markdown",
   "metadata": {
    "id": "bDtP1gcQhFP2"
   },
   "source": [
    "## Import Model and Layers"
   ]
  },
  {
   "cell_type": "code",
   "execution_count": 7,
   "metadata": {
    "id": "gIT5eHEnhDkT"
   },
   "outputs": [],
   "source": [
    "# Import the Sequential model.\n",
    "from tensorflow.keras.models import Sequential\n",
    "\n",
    "# Import the Dense, Flatten, Conv2D, MaxPooling2D, and Dropout layers.\n",
    "from tensorflow.keras.layers import Dense, Flatten, Conv2D, MaxPooling2D, Dropout"
   ]
  },
  {
   "cell_type": "markdown",
   "metadata": {
    "id": "4wj0CUr0ogrG"
   },
   "source": [
    "## Epochs and Model Type"
   ]
  },
  {
   "cell_type": "code",
   "execution_count": 8,
   "metadata": {
    "id": "1oeXvjVpoeBq"
   },
   "outputs": [
    {
     "name": "stdout",
     "output_type": "stream",
     "text": [
      "WARNING:tensorflow:From C:\\Users\\Student\\AppData\\Local\\Programs\\Python\\Python310\\lib\\site-packages\\keras\\src\\backend.py:873: The name tf.get_default_graph is deprecated. Please use tf.compat.v1.get_default_graph instead.\n",
      "\n"
     ]
    }
   ],
   "source": [
    "# Create a variable called epochs and set the value as 10.\n",
    "epochs = 10\n",
    "\n",
    "# Create a new model object using the Keras Sequential command.\n",
    "model = Sequential()"
   ]
  },
  {
   "cell_type": "markdown",
   "metadata": {
    "id": "BJSjRUHlt7Xz"
   },
   "source": [
    "## Implementing Convolutional Layers\n",
    "Keras provides functionality to easily create convolutional layers for your neural networks. You'll use the function Conv2D to create the first convolutional layer of your network."
   ]
  },
  {
   "cell_type": "code",
   "execution_count": 9,
   "metadata": {
    "id": "da6uh69PuYhy"
   },
   "outputs": [],
   "source": [
    "# Add a Conv2D layer to the network.\n",
    "model.add(Conv2D(filters=32, kernel_size=(3,3), activation='relu',input_shape=input_shape))"
   ]
  },
  {
   "cell_type": "markdown",
   "metadata": {
    "id": "qLk2-SvIxOcG"
   },
   "source": [
    "## Pooling Layers\n",
    "The most common pooling layer is a 2x2 filter with a stride of 2. This results in the width and the height of the input layer being reduced by half. This simplifies the data without too much loss of specificity in the image."
   ]
  },
  {
   "cell_type": "code",
   "execution_count": 10,
   "metadata": {
    "id": "2S6XlbC6xTtJ"
   },
   "outputs": [
    {
     "name": "stdout",
     "output_type": "stream",
     "text": [
      "WARNING:tensorflow:From C:\\Users\\Student\\AppData\\Local\\Programs\\Python\\Python310\\lib\\site-packages\\keras\\src\\layers\\pooling\\max_pooling2d.py:161: The name tf.nn.max_pool is deprecated. Please use tf.nn.max_pool2d instead.\n",
      "\n"
     ]
    }
   ],
   "source": [
    "# Add a MaxPooling2D layer to the network.\n",
    "model.add(MaxPooling2D(pool_size=(2,2)))"
   ]
  },
  {
   "cell_type": "markdown",
   "metadata": {
    "id": "gKrSZyQZxgiY"
   },
   "source": [
    "## More Convolutional Layers"
   ]
  },
  {
   "cell_type": "code",
   "execution_count": 11,
   "metadata": {
    "id": "983wk-anxhXZ"
   },
   "outputs": [],
   "source": [
    "# Add another Conv2D layer to the network.\n",
    "model.add(Conv2D(filters=64, kernel_size=(3, 3), activation='relu'))"
   ]
  },
  {
   "cell_type": "markdown",
   "metadata": {
    "id": "NHh7a-zeeM4Z"
   },
   "source": [
    "## Dropout Layers\n"
   ]
  },
  {
   "cell_type": "code",
   "execution_count": 12,
   "metadata": {
    "id": "DfBXryNkeOmh"
   },
   "outputs": [],
   "source": [
    "# Add a Dropout Layer to the network.\n",
    "model.add(Dropout (rate=0.3))\n",
    "# Add the final calculation layer, Conv2D Layer to the network. \n",
    "model.add(Conv2D(32, (3,3), activation='relu'))"
   ]
  },
  {
   "cell_type": "markdown",
   "metadata": {
    "id": "gba9EC0WeX1K"
   },
   "source": [
    "## Dense and Flatten Layers"
   ]
  },
  {
   "cell_type": "code",
   "execution_count": 13,
   "metadata": {
    "id": "SUR7_dnSeYu9"
   },
   "outputs": [],
   "source": [
    "# Add a Flatten() Layer to the network. \n",
    "model.add(Flatten())\n",
    "# Add a Dense Layer to the network.\n",
    "model.add(Dense (units=32, activation='relu'))"
   ]
  },
  {
   "cell_type": "markdown",
   "metadata": {
    "id": "QZZduFRve8ks"
   },
   "source": [
    "## Output Layers"
   ]
  },
  {
   "cell_type": "code",
   "execution_count": 14,
   "metadata": {
    "id": "59HNM0Gse9N9"
   },
   "outputs": [
    {
     "name": "stdout",
     "output_type": "stream",
     "text": [
      "Model: \"sequential\"\n",
      "_________________________________________________________________\n",
      " Layer (type)                Output Shape              Param #   \n",
      "=================================================================\n",
      " conv2d (Conv2D)             (None, 26, 26, 32)        320       \n",
      "                                                                 \n",
      " max_pooling2d (MaxPooling2  (None, 13, 13, 32)        0         \n",
      " D)                                                              \n",
      "                                                                 \n",
      " conv2d_1 (Conv2D)           (None, 11, 11, 64)        18496     \n",
      "                                                                 \n",
      " dropout (Dropout)           (None, 11, 11, 64)        0         \n",
      "                                                                 \n",
      " conv2d_2 (Conv2D)           (None, 9, 9, 32)          18464     \n",
      "                                                                 \n",
      " flatten (Flatten)           (None, 2592)              0         \n",
      "                                                                 \n",
      " dense (Dense)               (None, 32)                82976     \n",
      "                                                                 \n",
      " dense_1 (Dense)             (None, 10)                330       \n",
      "                                                                 \n",
      "=================================================================\n",
      "Total params: 120586 (471.04 KB)\n",
      "Trainable params: 120586 (471.04 KB)\n",
      "Non-trainable params: 0 (0.00 Byte)\n",
      "_________________________________________________________________\n"
     ]
    }
   ],
   "source": [
    "# Add another Dense layer to the network. \n",
    "model.add(Dense (units=10, activation='softmax'))\n",
    "# Print a summary of your network.\n",
    "model.summary()"
   ]
  },
  {
   "cell_type": "markdown",
   "metadata": {
    "id": "h0pRLVz4fJbi"
   },
   "source": [
    "# Training the Network\n",
    "For the neural network, the goal is to optimize the loss by making it as small as possible. RMSProp is one way the network can do this."
   ]
  },
  {
   "cell_type": "markdown",
   "metadata": {
    "id": "BkcXraxdfeT5"
   },
   "source": [
    "## Compile the Network"
   ]
  },
  {
   "cell_type": "code",
   "execution_count": 15,
   "metadata": {
    "id": "NumWEIzVfNQn"
   },
   "outputs": [
    {
     "name": "stdout",
     "output_type": "stream",
     "text": [
      "WARNING:tensorflow:From C:\\Users\\Student\\AppData\\Local\\Programs\\Python\\Python310\\lib\\site-packages\\keras\\src\\optimizers\\__init__.py:309: The name tf.train.Optimizer is deprecated. Please use tf.compat.v1.train.Optimizer instead.\n",
      "\n"
     ]
    }
   ],
   "source": [
    "# Add the compile function that calculates the loss and uses the optimizer parameter to set the optimization algorithm.\n",
    "model.compile(loss='categorical_crossentropy', optimizer='rmsprop', metrics=['accuracy'])"
   ]
  },
  {
   "cell_type": "markdown",
   "metadata": {
    "id": "vgGQqQyJfhz2"
   },
   "source": [
    "## Training"
   ]
  },
  {
   "cell_type": "code",
   "execution_count": 16,
   "metadata": {
    "id": "GiA3s3DJfih7"
   },
   "outputs": [
    {
     "name": "stdout",
     "output_type": "stream",
     "text": [
      "Epoch 1/10\n",
      "WARNING:tensorflow:From C:\\Users\\Student\\AppData\\Local\\Programs\\Python\\Python310\\lib\\site-packages\\keras\\src\\utils\\tf_utils.py:492: The name tf.ragged.RaggedTensorValue is deprecated. Please use tf.compat.v1.ragged.RaggedTensorValue instead.\n",
      "\n",
      "WARNING:tensorflow:From C:\\Users\\Student\\AppData\\Local\\Programs\\Python\\Python310\\lib\\site-packages\\keras\\src\\engine\\base_layer_utils.py:384: The name tf.executing_eagerly_outside_functions is deprecated. Please use tf.compat.v1.executing_eagerly_outside_functions instead.\n",
      "\n",
      "938/938 [==============================] - 17s 17ms/step - loss: 0.1799 - accuracy: 0.9453 - val_loss: 0.0599 - val_accuracy: 0.9812\n",
      "Epoch 2/10\n",
      "938/938 [==============================] - 16s 17ms/step - loss: 0.0534 - accuracy: 0.9836 - val_loss: 0.0377 - val_accuracy: 0.9881\n",
      "Epoch 3/10\n",
      "938/938 [==============================] - 16s 17ms/step - loss: 0.0367 - accuracy: 0.9887 - val_loss: 0.0305 - val_accuracy: 0.9897\n",
      "Epoch 4/10\n",
      "938/938 [==============================] - 16s 17ms/step - loss: 0.0286 - accuracy: 0.9912 - val_loss: 0.0406 - val_accuracy: 0.9880\n",
      "Epoch 5/10\n",
      "938/938 [==============================] - 16s 17ms/step - loss: 0.0237 - accuracy: 0.9928 - val_loss: 0.0328 - val_accuracy: 0.9907\n",
      "Epoch 6/10\n",
      "938/938 [==============================] - 16s 17ms/step - loss: 0.0196 - accuracy: 0.9942 - val_loss: 0.0271 - val_accuracy: 0.9916\n",
      "Epoch 7/10\n",
      "938/938 [==============================] - 16s 18ms/step - loss: 0.0166 - accuracy: 0.9951 - val_loss: 0.0281 - val_accuracy: 0.9919\n",
      "Epoch 8/10\n",
      "938/938 [==============================] - 17s 18ms/step - loss: 0.0144 - accuracy: 0.9958 - val_loss: 0.0371 - val_accuracy: 0.9899\n",
      "Epoch 9/10\n",
      "938/938 [==============================] - 16s 17ms/step - loss: 0.0124 - accuracy: 0.9965 - val_loss: 0.0292 - val_accuracy: 0.9923\n",
      "Epoch 10/10\n",
      "938/938 [==============================] - 16s 18ms/step - loss: 0.0110 - accuracy: 0.9967 - val_loss: 0.0263 - val_accuracy: 0.9936\n"
     ]
    },
    {
     "data": {
      "text/plain": [
       "<keras.src.callbacks.History at 0x29c3a286c80>"
      ]
     },
     "execution_count": 16,
     "metadata": {},
     "output_type": "execute_result"
    }
   ],
   "source": [
    "# Add the fit function and set the input data for the model so the network doesn't rely on a pattern to learn.\n",
    "model.fit(train_images, train_labels, batch_size=64, epochs=epochs, validation_data=(test_images, test_labels), shuffle=True) "
   ]
  },
  {
   "cell_type": "markdown",
   "metadata": {
    "id": "S3wn7sRjgaHV"
   },
   "source": [
    "## Evaluation and Returning the Model"
   ]
  },
  {
   "cell_type": "code",
   "execution_count": 20,
   "metadata": {
    "id": "WGrRNCa1gbn1"
   },
   "outputs": [
    {
     "name": "stdout",
     "output_type": "stream",
     "text": [
      "313/313 - 1s - loss: 0.0263 - accuracy: 0.9936 - 1s/epoch - 4ms/step\n",
      "Test accuracy:  0.9936000108718872\n"
     ]
    }
   ],
   "source": [
    "# Calculate the loss and accuracy of your model.\n",
    "test_loss, test_acc = model.evaluate(test_images, test_labels, verbose=2) \n",
    "scores = model.evaluate(test_images, test_labels, verbose=0)\n",
    "# Print out the test accuracy.\n",
    "print('Test accuracy: ', scores [1])"
   ]
  },
  {
   "cell_type": "markdown",
   "metadata": {
    "id": "GLkOzrhngkEp"
   },
   "source": [
    "## Exporting the Model"
   ]
  },
  {
   "cell_type": "code",
   "execution_count": 21,
   "metadata": {
    "id": "09akaaoqgkoe"
   },
   "outputs": [
    {
     "name": "stderr",
     "output_type": "stream",
     "text": [
      "C:\\Users\\Student\\AppData\\Local\\Programs\\Python\\Python310\\lib\\site-packages\\keras\\src\\engine\\training.py:3103: UserWarning: You are saving your model as an HDF5 file via `model.save()`. This file format is considered legacy. We recommend using instead the native Keras format, e.g. `model.save('my_model.keras')`.\n",
      "  saving_api.save_model(\n"
     ]
    }
   ],
   "source": [
    "# Export your model.\n",
    "model.save('cnn_model.h5')"
   ]
  },
  {
   "cell_type": "code",
   "execution_count": null,
   "metadata": {},
   "outputs": [],
   "source": []
  }
 ],
 "metadata": {
  "colab": {
   "provenance": []
  },
  "kernelspec": {
   "display_name": "Python 3 (ipykernel)",
   "language": "python",
   "name": "python3"
  },
  "language_info": {
   "codemirror_mode": {
    "name": "ipython",
    "version": 3
   },
   "file_extension": ".py",
   "mimetype": "text/x-python",
   "name": "python",
   "nbconvert_exporter": "python",
   "pygments_lexer": "ipython3",
   "version": "3.10.0"
  }
 },
 "nbformat": 4,
 "nbformat_minor": 4
}
