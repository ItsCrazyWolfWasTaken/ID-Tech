{
 "cells": [
  {
   "cell_type": "markdown",
   "metadata": {
    "id": "kGir7eJSWJMr"
   },
   "source": [
    "# Printing Statements\n",
    "In Python, you can use the print() method to create statements. The print() method is a built-in Python function that outputs a message to the console or run window."
   ]
  },
  {
   "cell_type": "markdown",
   "metadata": {
    "id": "Hw23GMznbPcT"
   },
   "source": [
    "## Creating a Statement\n",
    "To get started, you'll learn how to create a basic statement in Python."
   ]
  },
  {
   "cell_type": "code",
   "execution_count": 38,
   "metadata": {
    "id": "GUSYHyWZhM3i"
   },
   "outputs": [
    {
     "name": "stdout",
     "output_type": "stream",
     "text": [
      "Hello World!\n"
     ]
    }
   ],
   "source": [
    "print(\"Hello World!\")"
   ]
  },
  {
   "cell_type": "markdown",
   "metadata": {
    "id": "Lc2epWtsbhRO"
   },
   "source": [
    "## Printing Practice\n",
    "Try following the steps above to print the statements below:\n",
    "*   Print your name\n",
    "*   Print your birthday\n",
    "*   Print your favorite school subject\n",
    "*   Print your favorite food\n"
   ]
  },
  {
   "cell_type": "code",
   "execution_count": 37,
   "metadata": {
    "id": "WJUyfreqdAAV"
   },
   "outputs": [
    {
     "name": "stdout",
     "output_type": "stream",
     "text": [
      "Ben \"Beans\" Kiev\n",
      "April 20th\n",
      "Math and Physics and Engineering\n",
      "Ramen\n"
     ]
    }
   ],
   "source": [
    "print(\"Ben \\\"Beans\\\" Kiev\\nApril 20th\\nMath and Physics and Engineering\\nRamen\")"
   ]
  },
  {
   "cell_type": "markdown",
   "metadata": {
    "id": "2JjT5jXDgxjR"
   },
   "source": [
    "## Printing Integers\n",
    "You can also use print statements to do simple math, including addition, subtraction, division, and multiplication."
   ]
  },
  {
   "cell_type": "code",
   "execution_count": 41,
   "metadata": {
    "id": "BrrGtx7Mg4C-"
   },
   "outputs": [
    {
     "name": "stdin",
     "output_type": "stream",
     "text": [
      "First Number:  2345\n",
      "Second Number:  12563478\n",
      "Operation:  *\n"
     ]
    },
    {
     "name": "stdout",
     "output_type": "stream",
     "text": [
      "29461355910\n"
     ]
    },
    {
     "name": "stdin",
     "output_type": "stream",
     "text": [
      "if you are done say 'done'  a\n",
      "Second Number:  234\n",
      "Operation:  *\n"
     ]
    },
    {
     "name": "stdout",
     "output_type": "stream",
     "text": [
      "6893957282940\n"
     ]
    },
    {
     "name": "stdin",
     "output_type": "stream",
     "text": [
      "if you are done say 'done'  done\n"
     ]
    }
   ],
   "source": [
    "def addition(a,b):\n",
    "    result = (a+b)\n",
    "    print(result)\n",
    "    return(result)\n",
    "def subtraction(a,b):\n",
    "    result = (a-b)\n",
    "    print(result)\n",
    "    return(result)\n",
    "def multiplication(a,b):\n",
    "    result = (a*b)\n",
    "    print(result)\n",
    "    return(result)\n",
    "def division(a,b):\n",
    "    result = (a/b)\n",
    "    print(result)\n",
    "    return(result)\n",
    "def remainder(a,b):\n",
    "    result = a%b\n",
    "    print(result)\n",
    "    return(result)\n",
    "def exponents(a,b):\n",
    "    temp = a*a\n",
    "    for i in range(b-2):\n",
    "        temp = temp*a\n",
    "    a = temp\n",
    "    print(a)\n",
    "    return(a)\n",
    "def calculator(a, symbol, b):\n",
    "    if symbol == \"+\":\n",
    "        return addition(a,b)\n",
    "    if symbol == \"-\":\n",
    "        return subtraction(a,b)\n",
    "    if symbol == \"*\":\n",
    "        return multiplication(a,b)\n",
    "    if symbol == \"/\":\n",
    "        return division(a,b)\n",
    "    if symbol == \"%\":\n",
    "        return remainder(a,b)\n",
    "    if symbol == \"^\":\n",
    "        return exponents(a,b)\n",
    "\n",
    "a = int(input(\"First Number: \"))\n",
    "b = int(input(\"Second Number: \"))\n",
    "symbol = input(\"Operation: \")\n",
    "total = calculator(a, symbol, b)\n",
    "while True:\n",
    "    done = input(\"if you are done say 'done' \")\n",
    "    if done == \"done\":\n",
    "        break\n",
    "    b = int(input(\"Second Number: \"))\n",
    "    symbol = input(\"Operation: \")\n",
    "    total = total + calculator(total, symbol, b)\n",
    "# entries = input(\"make a list of number, symbol, number there will be a plus between automatically, number, symbol.....\")\n",
    "# temp = entries.split(\",\")\n",
    "# total = 0.0\n",
    "# for i in range(int(len(temp)/3)):\n",
    "#     total = total+float(calculator(temp[i*3], temp[i*3+1], temp[i*3+2]))"
   ]
  },
  {
   "cell_type": "code",
   "execution_count": null,
   "metadata": {},
   "outputs": [],
   "source": []
  }
 ],
 "metadata": {
  "colab": {
   "provenance": [],
   "toc_visible": true
  },
  "kernelspec": {
   "display_name": "Python 3 (ipykernel)",
   "language": "python",
   "name": "python3"
  },
  "language_info": {
   "codemirror_mode": {
    "name": "ipython",
    "version": 3
   },
   "file_extension": ".py",
   "mimetype": "text/x-python",
   "name": "python",
   "nbconvert_exporter": "python",
   "pygments_lexer": "ipython3",
   "version": "3.10.0"
  }
 },
 "nbformat": 4,
 "nbformat_minor": 4
}
