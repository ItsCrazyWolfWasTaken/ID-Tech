{
 "cells": [
  {
   "cell_type": "code",
   "execution_count": 1,
   "id": "5b0a9b24-9bdd-4f40-8236-0f08c61669da",
   "metadata": {},
   "outputs": [],
   "source": [
    "import random\n",
    "cells = [\" 1 \", \" 2 \", \" 3 \", \" 4 \", \" 5 \", \" 6 \", \" 7 \", \" 8 \", \" 9 \"]\n",
    "game_not_won = True\n",
    "chosen_cells = []\n",
    "num_turns = 0\n",
    "def print_board():\n",
    "    print(cells[0]+\"|\"+cells[1]+\"|\"+cells[2]+\"\\n-----------\")\n",
    "    print(cells[3]+\"|\"+cells[4]+\"|\"+cells[5]+\"\\n-----------\")\n",
    "    print(cells[6]+\"|\"+cells[7]+\"|\"+cells[8])"
   ]
  },
  {
   "cell_type": "code",
   "execution_count": 2,
   "id": "cf2ba33f-41dd-4f92-a1ac-c3c691c0e6ea",
   "metadata": {},
   "outputs": [
    {
     "name": "stdin",
     "output_type": "stream",
     "text": [
      "Against computer? (y/n)  y\n",
      "Player 1, say your name.  test'\n"
     ]
    },
    {
     "name": "stdout",
     "output_type": "stream",
     "text": [
      "test' is X, Computer is O.\n"
     ]
    }
   ],
   "source": [
    "computer = input(\"Against computer? (y/n) \").lower()\n",
    "player1 = input(\"Player 1, say your name. \")\n",
    "if computer == \"n\":\n",
    "    player2 = input(\"Player 2, say your name. \")\n",
    "else:\n",
    "    player2 = \"Computer\"\n",
    "print(player1 + \" is X, \" + player2 + \" is O.\")\n"
   ]
  },
  {
   "cell_type": "code",
   "execution_count": 3,
   "id": "96a76ce4-a0be-4c92-8b55-dff1d3163cc4",
   "metadata": {},
   "outputs": [],
   "source": [
    "def detect_win(cells, game_not_won):\n",
    "    if cells[0] == cells[1] == cells[2] or cells[3] == cells[4] == cells[5] or cells[6] == cells[7] == cells[8] or cells[0] == cells[3] == cells[6] or cells[1] == cells[4] == cells[7] or cells[2] == cells[5] == cells[8] or cells[0] == cells[4] == cells[8] or cells[2] == cells[4] == cells[6]:\n",
    "        game_not_won = False\n",
    "    return not game_not_won\n",
    "def detect_almost_wins(c, chosen):\n",
    "    choice = -1\n",
    "    for i in range(0,3):\n",
    "        if c[i*3] == c[i*3+1] and c[i*3+2] == \" \"+str(i*3+3)+\" \":\n",
    "            return i*3+2\n",
    "        if c[i*3] == c[i*3+2] and c[i*3+1] == \" \"+str(i*3+2)+\" \":\n",
    "            return i*3+1\n",
    "        if c[i*3+1] == c[i*3+2] and c[i*3] == \" \"+str(i*3+1)+\" \":\n",
    "            return i*3 \n",
    "    for i in range(0,3):\n",
    "        if c[i+3] == c[i+3+1] and c[i+3+2] == \" \"+str(i+3+3)+\" \":\n",
    "            return i*3+2\n",
    "        if c[i+3] == c[i+3+2] and c[i+3+1] == \" \"+str(i+3+2)+\" \":\n",
    "            return i*3+1\n",
    "        if c[i+3+1] == c[i+3+2] and c[i+3] == \" \"+str(i+3+1)+\" \":\n",
    "            return i*3 \n",
    "    if c[0] == c[4] and c[8] == \" \"+str(c[8]+1)+\" \":\n",
    "        return 8\n",
    "    if c[0] == c[8] and c[4] == \" \"+str(c[4]+1)+\" \":\n",
    "        return 4\n",
    "    if c[8] == c[4] and c[0] == \" \"+str(c[0]+1)+\" \":\n",
    "        return 0\n",
    "    if c[2] == c[4] and c[6] == \" \"+str(c[6]+1)+\" \":\n",
    "        return 6\n",
    "    if c[2] == c[6] and c[4] == \" \"+str(c[4]+1)+\" \":\n",
    "        return 4\n",
    "    if c[0] == c[4] and c[2] == \" \"+str(c[2]+1)+\" \":\n",
    "        return 2\n",
    "    else:\n",
    "        choice = random.randint(0,8)\n",
    "        while choice in chosen:\n",
    "            choice = random.randint(0,8)\n",
    "        return choice\n",
    "    "
   ]
  },
  {
   "cell_type": "code",
   "execution_count": 4,
   "id": "84d13ca6-4719-4c46-bada-292178eb6cb0",
   "metadata": {},
   "outputs": [],
   "source": [
    "def detect_win(cells, game_not_won):\n",
    "    if cells[0] == cells[1] == cells[2] or cells[3] == cells[4] == cells[5] or cells[6] == cells[7] == cells[8] or cells[0] == cells[3] == cells[6] or cells[1] == cells[4] == cells[7] or cells[2] == cells[5] == cells[8] or cells[0] == cells[4] == cells[8] or cells[2] == cells[4] == cells[6]:\n",
    "        game_not_won = False\n",
    "    return not game_not_won\n",
    "def detect_almost_wins(c, chosen):\n",
    "    choice = -1\n",
    "    for i in range(0,3):\n",
    "        if c[i*3] == c[i*3+1] and c[i*3+2] == \" \"+str(i*3+2+1)+\" \":\n",
    "            return i*3+2\n",
    "        if c[i*3] == c[i*3+2] and c[i*3+1] == \" \"+str(i*3+1+1)+\" \":\n",
    "            return i*3+1\n",
    "        if c[i*3+1] == c[i*3+2] and c[i*3] == \" \"+str(i*3+1)+\" \":\n",
    "            return i*3 \n",
    "    for i in range(0,3):\n",
    "        if c[i+3] == c[i+3+1] and c[i+3+2] == \" \"+str(i+3+2+1)+\" \":\n",
    "            return i+3+2\n",
    "        if c[i+3] == c[i+3+2] and c[i+3+1] == \" \"+str(i+3+1+1)+\" \":\n",
    "            return i+3+1\n",
    "        if c[i+3+1] == c[i+3+2] and c[i+3] == \" \"+str(i+3+1)+\" \":\n",
    "            return i+3 \n",
    "    if c[0] == c[4] and c[8] == \" \"+str(9)+\" \":\n",
    "        return 8\n",
    "    if c[0] == c[8] and c[4] == \" \"+str(5)+\" \":\n",
    "        return 4\n",
    "    if c[8] == c[4] and c[0] == \" \"+str(1)+\" \":\n",
    "        return 0\n",
    "    if c[2] == c[4] and c[6] == \" \"+str(7)+\" \":\n",
    "        return 6\n",
    "    if c[2] == c[6] and c[4] == \" \"+str(5)+\" \":\n",
    "        return 4\n",
    "    if c[0] == c[4] and c[2] == \" \"+str(3)+\" \":\n",
    "        return 2\n",
    "    else:\n",
    "        choice = random.randint(0,8)\n",
    "        while choice in chosen:\n",
    "            choice = random.randint(0,8)\n",
    "        return choice\n",
    "    "
   ]
  },
  {
   "cell_type": "code",
   "execution_count": 5,
   "id": "29832ce6-ef10-43f7-8667-868d67e9f796",
   "metadata": {},
   "outputs": [
    {
     "name": "stdout",
     "output_type": "stream",
     "text": [
      " 1 | 2 | 3 \n",
      "-----------\n",
      " 4 | 5 | 6 \n",
      "-----------\n",
      " 7 | 8 | 9 \n"
     ]
    },
    {
     "name": "stdin",
     "output_type": "stream",
     "text": [
      "test', please choose a cell.  1\n"
     ]
    },
    {
     "name": "stdout",
     "output_type": "stream",
     "text": [
      " X | 2 | 3 \n",
      "-----------\n",
      " 4 | 5 | O \n",
      "-----------\n",
      " 7 | 8 | 9 \n"
     ]
    },
    {
     "name": "stdin",
     "output_type": "stream",
     "text": [
      "test', please choose a cell.  9\n"
     ]
    },
    {
     "name": "stdout",
     "output_type": "stream",
     "text": [
      " X | 2 | 3 \n",
      "-----------\n",
      " 4 | O | O \n",
      "-----------\n",
      " 7 | 8 | X \n"
     ]
    },
    {
     "name": "stdin",
     "output_type": "stream",
     "text": [
      "test', please choose a cell.  4\n"
     ]
    },
    {
     "name": "stdout",
     "output_type": "stream",
     "text": [
      " X | 2 | 3 \n",
      "-----------\n",
      " X | O | O \n",
      "-----------\n",
      " O | 8 | X \n"
     ]
    },
    {
     "name": "stdin",
     "output_type": "stream",
     "text": [
      "test', please choose a cell.  3\n"
     ]
    },
    {
     "name": "stdout",
     "output_type": "stream",
     "text": [
      " X | O | X \n",
      "-----------\n",
      " X | O | O \n",
      "-----------\n",
      " O | 8 | X \n"
     ]
    },
    {
     "name": "stdin",
     "output_type": "stream",
     "text": [
      "test', please choose a cell.  8\n"
     ]
    },
    {
     "name": "stdout",
     "output_type": "stream",
     "text": [
      " X | O | X \n",
      "-----------\n",
      " X | O | O \n",
      "-----------\n",
      " O | X | X \n",
      "Tie!\n"
     ]
    }
   ],
   "source": [
    "while game_not_won:\n",
    "    print_board()\n",
    "    p1_choice = int(input(player1 + \", please choose a cell. \")) - 1\n",
    "    while p1_choice in chosen_cells:\n",
    "        p1_choice = int(input(player1 + \", that was already chosen, please choose again. \")) - 1\n",
    "    cells[p1_choice] = \" X \"\n",
    "    num_turns+=1\n",
    "    if detect_win(cells, game_not_won):\n",
    "        print_board()\n",
    "        print(player1 + \" Wins!\")\n",
    "        break\n",
    "    elif num_turns == 9:\n",
    "        print_board()\n",
    "        print(\"Tie!\")\n",
    "        break\n",
    "    chosen_cells.append(p1_choice)\n",
    "    if computer == \"n\":\n",
    "        print_board()\n",
    "        p2_choice = int(input(player2 + \", please choose a cell. \")) - 1\n",
    "        while p2_choice in chosen_cells:\n",
    "            p2_choice = int(input(player2 + \", that was already chosen, please choose again. \")) - 1\n",
    "        \n",
    "    else:\n",
    "        p2_choice = detect_almost_wins(cells, chosen_cells)\n",
    "    cells[p2_choice] = \" O \"\n",
    "    num_turns+=1\n",
    "    if detect_win(cells, game_not_won):\n",
    "        print_board()\n",
    "        print(player2 + \" Wins!\")\n",
    "        break\n",
    "    elif num_turns == 9:\n",
    "        print_board()\n",
    "        print(\"Tie!\")\n",
    "        break\n",
    "    chosen_cells.append(p2_choice)"
   ]
  },
  {
   "cell_type": "code",
   "execution_count": null,
   "id": "3e3740c9-ef3b-4a49-ae50-87bf3ecace33",
   "metadata": {},
   "outputs": [],
   "source": []
  }
 ],
 "metadata": {
  "kernelspec": {
   "display_name": "Python 3 (ipykernel)",
   "language": "python",
   "name": "python3"
  },
  "language_info": {
   "codemirror_mode": {
    "name": "ipython",
    "version": 3
   },
   "file_extension": ".py",
   "mimetype": "text/x-python",
   "name": "python",
   "nbconvert_exporter": "python",
   "pygments_lexer": "ipython3",
   "version": "3.10.0"
  }
 },
 "nbformat": 4,
 "nbformat_minor": 5
}
