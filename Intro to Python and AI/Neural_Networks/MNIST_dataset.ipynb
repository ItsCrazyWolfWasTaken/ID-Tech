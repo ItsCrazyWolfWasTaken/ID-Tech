{
  "nbformat": 4,
  "nbformat_minor": 0,
  "metadata": {
    "colab": {
      "provenance": []
    },
    "kernelspec": {
      "name": "python3",
      "display_name": "Python 3"
    },
    "language_info": {
      "name": "python"
    }
  },
  "cells": [
    {
      "cell_type": "markdown",
      "source": [
        "# Image Recognition\n",
        "In this notebook, you will create a convolutional neural network to classify images in MNIST dataset."
      ],
      "metadata": {
        "id": "09ZYscF9nFLC"
      }
    },
    {
      "cell_type": "code",
      "execution_count": 86,
      "metadata": {
        "id": "wP0a9UIVnBWU"
      },
      "outputs": [],
      "source": [
        "# Import TensorFlow and Keras to create the neural network\n",
        "import tensorflow as tf\n",
        "from tensorflow import keras\n",
        "\n",
        "from tensorflow.keras.datasets import mnist\n",
        "from tensorflow.keras import backend as K\n",
        "import numpy as np\n",
        "\n",
        "# Matplotlib to plot info to show the results\n",
        "import matplotlib.pyplot as plt\n",
        "%matplotlib inline"
      ]
    },
    {
      "cell_type": "markdown",
      "source": [
        "# Preparing the MNIST data\n",
        "\n",
        "You'll write the code to load the MNIST data from the files, and add the code that processes it into a format your neural network can use."
      ],
      "metadata": {
        "id": "sN0CYaPpo_LO"
      }
    },
    {
      "cell_type": "markdown",
      "source": [
        "## Load the Data"
      ],
      "metadata": {
        "id": "nWpRhgJlBy9t"
      }
    },
    {
      "cell_type": "code",
      "source": [
        "# Load the MNIST Data\n",
        "def show_min_max(array, i):\n",
        "  random_image = array[i]\n",
        "  print(\"min and max value in image: \", random_image.min(), random_image.max())"
      ],
      "metadata": {
        "id": "M3n3zsd-9crr"
      },
      "execution_count": 87,
      "outputs": []
    },
    {
      "cell_type": "code",
      "source": [
        "# Create a function that will plot a image from the dataset and display the digit label.\n",
        "def plot_image(array, i, labels):\n",
        "  plt.imshow(np.squeeze(array[i]))\n",
        "  plt.title(\" Digit \" + str(labels[i]))\n",
        "  plt.xticks([])\n",
        "  plt.yticks([])\n",
        "  plt.show()"
      ],
      "metadata": {
        "id": "e22svQw9_DCo"
      },
      "execution_count": 88,
      "outputs": []
    },
    {
      "cell_type": "code",
      "source": [
        "# Create variables for the image row and column to keep track of your image size.\n",
        "img_rows, img_cols = 28, 28\n",
        "\n",
        "# Create a variable called num_classes and set the value to 10 output classes.\n",
        "num_classes = 10"
      ],
      "metadata": {
        "id": "w8At-Ixr_qgF"
      },
      "execution_count": 89,
      "outputs": []
    },
    {
      "cell_type": "code",
      "source": [
        "# Load the data to train and test the model, as well as the labels to test the data against.\n",
        "(train_images, train_labels), (test_images, test_labels) = mnist.load_data()\n",
        "\n",
        "# Load a backup copy of the untouched data, while the first copy will be processing the data and manipulating it.\n",
        "(train_images_backup, train_labels_backup), (test_images_backup, test_labels_backup) = mnist.load_data()\n",
        "\n",
        "# Print the shape of the training image dataset.\n",
        "print(train_images.shape)\n",
        "\n",
        "# Print the shape of the test image dataset.\n",
        "print(test_images.shape)"
      ],
      "metadata": {
        "id": "b1cuJIMCAFKy",
        "colab": {
          "base_uri": "https://localhost:8080/"
        },
        "outputId": "3cb2a939-1a5e-4712-9940-cc49a8f24b9f"
      },
      "execution_count": 90,
      "outputs": [
        {
          "output_type": "stream",
          "name": "stdout",
          "text": [
            "(60000, 28, 28)\n",
            "(10000, 28, 28)\n"
          ]
        }
      ]
    },
    {
      "cell_type": "markdown",
      "source": [
        "# Sorting through the Data\n",
        "\n",
        "Data can be formatted in many different ways. However, since the MNIST data is already so well prepared for machine learning applications, there is only a little reshaping or preparation that needs to go into it."
      ],
      "metadata": {
        "id": "D_mXbfPzCgT1"
      }
    },
    {
      "cell_type": "markdown",
      "source": [
        "## Data Formatting\n"
      ],
      "metadata": {
        "id": "f_6skqF0CqIA"
      }
    },
    {
      "cell_type": "code",
      "source": [
        "# Reshape the training data by converting the list of pixels into a 28x28 grid.\n",
        "train_images = train_images.reshape(train_images.shape[0],  img_rows, img_cols, 1)\n",
        "\n",
        "# Reshape the test data by converting the list of pixels into a 28x28 grid.\n",
        "test_images = test_images.reshape(test_images.shape[0],  img_rows, img_cols, 1)\n",
        "\n",
        "# Create an input_shape variable to keep track of the data's shape.\n",
        "input_shape = (img_rows, img_cols, 1)"
      ],
      "metadata": {
        "id": "8s6JxeSsCubo"
      },
      "execution_count": 91,
      "outputs": []
    },
    {
      "cell_type": "markdown",
      "source": [
        "## Data Cleaning"
      ],
      "metadata": {
        "id": "P_MKaRnDDawM"
      }
    },
    {
      "cell_type": "code",
      "source": [
        "# Call the plot_image function to print out the 100th image in train_images.\n",
        "plot_image(train_images, 100, train_labels)\n",
        "\n",
        "# Call the show_min_max function to print the min and max values of the image.\n",
        "show_min_max(train_images, 100)\n",
        "\n",
        "# Change the image values to between 0 and 1, convert that training data into float32.\n",
        "train_images = train_images.astype('float32')\n",
        "\n",
        "# Change the image values to between 0 and 1, convert that test data into float32.\n",
        "test_images = test_images.astype('float32')\n",
        "\n",
        "# Divide the images by 255 to make sure that each pixel is stored as a value between 0 and 1.\n",
        "train_images /= 255\n",
        "test_images /= 255\n",
        "\n",
        "# Call the plot_image function to print out the 100th image in train_images.\n",
        "plot_image(train_images, 100, train_labels)\n",
        "\n",
        "# Call the show_min_max function to print the min and max values of the image.\n",
        "show_min_max(train_images, 100)"
      ],
      "metadata": {
        "id": "8H4dgrfTDfBt",
        "colab": {
          "base_uri": "https://localhost:8080/",
          "height": 875
        },
        "outputId": "1b3ae8da-3fa3-4d87-9c4f-ca573f09aefd"
      },
      "execution_count": 92,
      "outputs": [
        {
          "output_type": "display_data",
          "data": {
            "text/plain": [
              "<Figure size 640x480 with 1 Axes>"
            ],
            "image/png": "[encoded data removed]"
          },
          "metadata": {}
        },
        {
          "output_type": "stream",
          "name": "stdout",
          "text": [
            "min and max value in image:  0 255\n"
          ]
        },
        {
          "output_type": "display_data",
          "data": {
            "text/plain": [
              "<Figure size 640x480 with 1 Axes>"
            ],
            "image/png": "[encoded data removed]"
          },
          "metadata": {}
        },
        {
          "output_type": "stream",
          "name": "stdout",
          "text": [
            "min and max value in image:  0.0 1.0\n"
          ]
        }
      ]
    },
    {
      "cell_type": "markdown",
      "source": [
        "## One-Hot Encoding"
      ],
      "metadata": {
        "id": "ZsHlE17nGl4L"
      }
    },
    {
      "cell_type": "code",
      "source": [
        "# Employ one-hot encoding on your training labels.\n",
        "train_labels = keras.utils.to_categorical(train_labels, num_classes)\n",
        "\n",
        "# Employ one-hot encoding on your test labels.\n",
        "test_labels = keras.utils.to_categorical(test_labels, num_classes)"
      ],
      "metadata": {
        "id": "MTEEbBoaGmrw"
      },
      "execution_count": 93,
      "outputs": []
    },
    {
      "cell_type": "markdown",
      "source": [
        "# Building the Network\n",
        "Neural networks learn to accomplish their tasks by reading training data and adjusting their neuron weights to improve their chance of choosing the correct answer."
      ],
      "metadata": {
        "id": "XanzYyhqIceK"
      }
    },
    {
      "cell_type": "markdown",
      "source": [
        "## Import Model and Layers"
      ],
      "metadata": {
        "id": "_4eeuJgwIm94"
      }
    },
    {
      "cell_type": "code",
      "source": [
        "# Import the Sequential model.\n",
        "from tensorflow.keras.models import Sequential\n",
        "\n",
        "# Import the Dense and Flatten layers.\n",
        "from tensorflow.keras.layers import Dense, Flatten"
      ],
      "metadata": {
        "id": "RLsacdUqIhio"
      },
      "execution_count": 94,
      "outputs": []
    },
    {
      "cell_type": "markdown",
      "source": [
        "## Epochs and Model Layers\n"
      ],
      "metadata": {
        "id": "M3_FRvX5IzWU"
      }
    },
    {
      "cell_type": "code",
      "source": [
        "# Create a variable called epochs and set the value as 10.\n",
        "epochs = 50\n",
        "\n",
        "# Create a new model object using the Keras Sequential.\n",
        "model = Sequential()\n",
        "\n",
        "# Add a Flatten layer and pass the input shape as an argument.\n",
        "model.add(Flatten(input_shape=input_shape))\n",
        "\n",
        "# Add a Dense layer to your network with the size of the layers in neurons and relu as the activation function.\n",
        "model.add(Dense(16, activation='relu'))\n",
        "\n",
        "# Add an output layer.\n",
        "model.add(Dense(10, activation='softmax'))\n",
        "\n",
        "# Print a summary of your network so far.\n",
        "model.summary()"
      ],
      "metadata": {
        "id": "xRWFzpeGJBEk",
        "colab": {
          "base_uri": "https://localhost:8080/"
        },
        "outputId": "e6ed6531-c5ea-4e7f-cc6e-9a6bc8586a2e"
      },
      "execution_count": 95,
      "outputs": [
        {
          "output_type": "stream",
          "name": "stdout",
          "text": [
            "Model: \"sequential_1\"\n",
            "_________________________________________________________________\n",
            " Layer (type)                Output Shape              Param #   \n",
            "=================================================================\n",
            " flatten_1 (Flatten)         (None, 784)               0         \n",
            "                                                                 \n",
            " dense_2 (Dense)             (None, 16)                12560     \n",
            "                                                                 \n",
            " dense_3 (Dense)             (None, 10)                170       \n",
            "                                                                 \n",
            "=================================================================\n",
            "Total params: 12730 (49.73 KB)\n",
            "Trainable params: 12730 (49.73 KB)\n",
            "Non-trainable params: 0 (0.00 Byte)\n",
            "_________________________________________________________________\n"
          ]
        }
      ]
    },
    {
      "cell_type": "markdown",
      "source": [
        "# Training the Network\n",
        "TensorFlow has a command that will do a lot of the work for you, but you still need to set up a few arguments so that this network is compiled in a useful way."
      ],
      "metadata": {
        "id": "ldmLMHqRLFbE"
      }
    },
    {
      "cell_type": "markdown",
      "source": [
        "## Compile the Network"
      ],
      "metadata": {
        "id": "bQwwYekXLLRh"
      }
    },
    {
      "cell_type": "code",
      "source": [
        "# Add the compile function that calculates the loss and uses the optimizer parameter to set the optimization algorithm.\n",
        "model.compile(loss='categorical_crossentropy', optimizer='adam', metrics=['accuracy'])"
      ],
      "metadata": {
        "id": "75V8MJfbLJ5N"
      },
      "execution_count": 96,
      "outputs": []
    },
    {
      "cell_type": "markdown",
      "source": [
        "## Training"
      ],
      "metadata": {
        "id": "ichoNcbPLvNi"
      }
    },
    {
      "cell_type": "code",
      "source": [
        "# Add the fit function and set the input data for the model so the network doesn't rely on a pattern to learn.\n",
        "model.fit(train_images, train_labels, epochs=epochs, shuffle=True)"
      ],
      "metadata": {
        "id": "g5i4WUsFLwIy",
        "colab": {
          "base_uri": "https://localhost:8080/"
        },
        "outputId": "ab0d8ab7-0c8a-4b21-bf1f-2700df306543"
      },
      "execution_count": 97,
      "outputs": [
        {
          "output_type": "stream",
          "name": "stdout",
          "text": [
            "Epoch 1/50\n",
            "1875/1875 [==============================] - 5s 2ms/step - loss: 0.4347 - accuracy: 0.8784\n",
            "Epoch 2/50\n",
            "1875/1875 [==============================] - 3s 2ms/step - loss: 0.2395 - accuracy: 0.9310\n",
            "Epoch 3/50\n",
            "1875/1875 [==============================] - 3s 2ms/step - loss: 0.2077 - accuracy: 0.9403\n",
            "Epoch 4/50\n",
            "1875/1875 [==============================] - 8s 4ms/step - loss: 0.1891 - accuracy: 0.9462\n",
            "Epoch 5/50\n",
            "1875/1875 [==============================] - 6s 3ms/step - loss: 0.1754 - accuracy: 0.9495\n",
            "Epoch 6/50\n",
            "1875/1875 [==============================] - 4s 2ms/step - loss: 0.1670 - accuracy: 0.9522\n",
            "Epoch 7/50\n",
            "1875/1875 [==============================] - 4s 2ms/step - loss: 0.1602 - accuracy: 0.9541\n",
            "Epoch 8/50\n",
            "1875/1875 [==============================] - 3s 2ms/step - loss: 0.1541 - accuracy: 0.9562\n",
            "Epoch 9/50\n",
            "1875/1875 [==============================] - 3s 2ms/step - loss: 0.1489 - accuracy: 0.9573\n",
            "Epoch 10/50\n",
            "1875/1875 [==============================] - 4s 2ms/step - loss: 0.1439 - accuracy: 0.9581\n",
            "Epoch 11/50\n",
            "1875/1875 [==============================] - 3s 2ms/step - loss: 0.1412 - accuracy: 0.9589\n",
            "Epoch 12/50\n",
            "1875/1875 [==============================] - 3s 2ms/step - loss: 0.1367 - accuracy: 0.9604\n",
            "Epoch 13/50\n",
            "1875/1875 [==============================] - 3s 2ms/step - loss: 0.1346 - accuracy: 0.9605\n",
            "Epoch 14/50\n",
            "1875/1875 [==============================] - 5s 2ms/step - loss: 0.1309 - accuracy: 0.9616\n",
            "Epoch 15/50\n",
            "1875/1875 [==============================] - 3s 2ms/step - loss: 0.1290 - accuracy: 0.9625\n",
            "Epoch 16/50\n",
            "1875/1875 [==============================] - 3s 2ms/step - loss: 0.1268 - accuracy: 0.9631\n",
            "Epoch 17/50\n",
            "1875/1875 [==============================] - 4s 2ms/step - loss: 0.1234 - accuracy: 0.9634\n",
            "Epoch 18/50\n",
            "1875/1875 [==============================] - 4s 2ms/step - loss: 0.1217 - accuracy: 0.9648\n",
            "Epoch 19/50\n",
            "1875/1875 [==============================] - 3s 2ms/step - loss: 0.1199 - accuracy: 0.9648\n",
            "Epoch 20/50\n",
            "1875/1875 [==============================] - 3s 2ms/step - loss: 0.1167 - accuracy: 0.9656\n",
            "Epoch 21/50\n",
            "1875/1875 [==============================] - 4s 2ms/step - loss: 0.1156 - accuracy: 0.9659\n",
            "Epoch 22/50\n",
            "1875/1875 [==============================] - 4s 2ms/step - loss: 0.1131 - accuracy: 0.9668\n",
            "Epoch 23/50\n",
            "1875/1875 [==============================] - 3s 2ms/step - loss: 0.1116 - accuracy: 0.9677\n",
            "Epoch 24/50\n",
            "1875/1875 [==============================] - 3s 2ms/step - loss: 0.1094 - accuracy: 0.9673\n",
            "Epoch 25/50\n",
            "1875/1875 [==============================] - 5s 2ms/step - loss: 0.1080 - accuracy: 0.9680\n",
            "Epoch 26/50\n",
            "1875/1875 [==============================] - 3s 2ms/step - loss: 0.1075 - accuracy: 0.9678\n",
            "Epoch 27/50\n",
            "1875/1875 [==============================] - 3s 2ms/step - loss: 0.1056 - accuracy: 0.9680\n",
            "Epoch 28/50\n",
            "1875/1875 [==============================] - 4s 2ms/step - loss: 0.1040 - accuracy: 0.9692\n",
            "Epoch 29/50\n",
            "1875/1875 [==============================] - 5s 3ms/step - loss: 0.1025 - accuracy: 0.9693\n",
            "Epoch 30/50\n",
            "1875/1875 [==============================] - 3s 2ms/step - loss: 0.1022 - accuracy: 0.9697\n",
            "Epoch 31/50\n",
            "1875/1875 [==============================] - 3s 2ms/step - loss: 0.0998 - accuracy: 0.9699\n",
            "Epoch 32/50\n",
            "1875/1875 [==============================] - 4s 2ms/step - loss: 0.0986 - accuracy: 0.9707\n",
            "Epoch 33/50\n",
            "1875/1875 [==============================] - 3s 2ms/step - loss: 0.0975 - accuracy: 0.9703\n",
            "Epoch 34/50\n",
            "1875/1875 [==============================] - 3s 2ms/step - loss: 0.0975 - accuracy: 0.9708\n",
            "Epoch 35/50\n",
            "1875/1875 [==============================] - 3s 2ms/step - loss: 0.0946 - accuracy: 0.9716\n",
            "Epoch 36/50\n",
            "1875/1875 [==============================] - 5s 2ms/step - loss: 0.0933 - accuracy: 0.9721\n",
            "Epoch 37/50\n",
            "1875/1875 [==============================] - 3s 2ms/step - loss: 0.0934 - accuracy: 0.9715\n",
            "Epoch 38/50\n",
            "1875/1875 [==============================] - 3s 2ms/step - loss: 0.0914 - accuracy: 0.9725\n",
            "Epoch 39/50\n",
            "1875/1875 [==============================] - 4s 2ms/step - loss: 0.0902 - accuracy: 0.9725\n",
            "Epoch 40/50\n",
            "1875/1875 [==============================] - 4s 2ms/step - loss: 0.0901 - accuracy: 0.9728\n",
            "Epoch 41/50\n",
            "1875/1875 [==============================] - 3s 2ms/step - loss: 0.0897 - accuracy: 0.9727\n",
            "Epoch 42/50\n",
            "1875/1875 [==============================] - 3s 2ms/step - loss: 0.0882 - accuracy: 0.9729\n",
            "Epoch 43/50\n",
            "1875/1875 [==============================] - 4s 2ms/step - loss: 0.0864 - accuracy: 0.9738\n",
            "Epoch 44/50\n",
            "1875/1875 [==============================] - 4s 2ms/step - loss: 0.0855 - accuracy: 0.9736\n",
            "Epoch 45/50\n",
            "1875/1875 [==============================] - 3s 2ms/step - loss: 0.0850 - accuracy: 0.9742\n",
            "Epoch 46/50\n",
            "1875/1875 [==============================] - 3s 2ms/step - loss: 0.0840 - accuracy: 0.9743\n",
            "Epoch 47/50\n",
            "1875/1875 [==============================] - 5s 2ms/step - loss: 0.0840 - accuracy: 0.9745\n",
            "Epoch 48/50\n",
            "1875/1875 [==============================] - 3s 2ms/step - loss: 0.0822 - accuracy: 0.9746\n",
            "Epoch 49/50\n",
            "1875/1875 [==============================] - 3s 2ms/step - loss: 0.0817 - accuracy: 0.9752\n",
            "Epoch 50/50\n",
            "1875/1875 [==============================] - 4s 2ms/step - loss: 0.0814 - accuracy: 0.9753\n"
          ]
        },
        {
          "output_type": "execute_result",
          "data": {
            "text/plain": [
              "<keras.src.callbacks.History at 0x78bac9342710>"
            ]
          },
          "metadata": {},
          "execution_count": 97
        }
      ]
    },
    {
      "cell_type": "markdown",
      "source": [
        "## Analyzing the Output"
      ],
      "metadata": {
        "id": "RtCk_-PUL3j8"
      }
    },
    {
      "cell_type": "code",
      "source": [
        "# Calculate the loss and accuracy of your model.\n",
        "test_loss, test_acc = model.evaluate(test_images, test_labels, verbose=2)\n",
        "\n",
        "# Print out the test accuracy.\n",
        "print(\"\\nTest Accuracy: \", test_acc)"
      ],
      "metadata": {
        "id": "-QlE5OzyL4YA",
        "colab": {
          "base_uri": "https://localhost:8080/"
        },
        "outputId": "cf861c2b-2b39-481e-ec45-787793c6ade5"
      },
      "execution_count": 98,
      "outputs": [
        {
          "output_type": "stream",
          "name": "stdout",
          "text": [
            "313/313 - 1s - loss: 0.1985 - accuracy: 0.9522 - 831ms/epoch - 3ms/step\n",
            "\n",
            "Test Accuracy:  0.9521999955177307\n"
          ]
        }
      ]
    },
    {
      "cell_type": "markdown",
      "source": [
        "## Exporting the Model"
      ],
      "metadata": {
        "id": "ZN-OucAVMOxG"
      }
    },
    {
      "cell_type": "code",
      "source": [
        "# Export your model\n",
        "model.save('my_model.h5')"
      ],
      "metadata": {
        "id": "2egXOIbgMQBC",
        "colab": {
          "base_uri": "https://localhost:8080/"
        },
        "outputId": "0c9221e0-3163-4d2d-ac42-b4a1b1612f3e"
      },
      "execution_count": 99,
      "outputs": [
        {
          "output_type": "stream",
          "name": "stderr",
          "text": [
            "/usr/local/lib/python3.10/dist-packages/keras/src/engine/training.py:3103: UserWarning: You are saving your model as an HDF5 file via `model.save()`. This file format is considered legacy. We recommend using instead the native Keras format, e.g. `model.save('my_model.keras')`.\n",
            "  saving_api.save_model(\n"
          ]
        }
      ]
    }
  ]
}
